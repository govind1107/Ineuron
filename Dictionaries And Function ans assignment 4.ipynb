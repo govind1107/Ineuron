{
 "cells": [
  {
   "cell_type": "markdown",
   "id": "d97d2f46",
   "metadata": {},
   "source": [
    "#### 1.1 Write a Python Program(with class concepts) to find the area of the triangle using the below formula. "
   ]
  },
  {
   "cell_type": "code",
   "execution_count": 37,
   "id": "c6cdf3f1",
   "metadata": {},
   "outputs": [],
   "source": [
    "class sides:\n",
    "    def __init__(self,side1,side2,side3):\n",
    "        self.side1 = float(side1)\n",
    "        self.side2 = float(side2)\n",
    "        self.side3 = float(side3) \n",
    "        print (\"Initialised Triagle super class [\" +  str(side1) + \",\" + str(side2) + \",\" + str(side3) + \"]\")\n"
   ]
  },
  {
   "cell_type": "code",
   "execution_count": 38,
   "id": "09383599",
   "metadata": {},
   "outputs": [
    {
     "name": "stdout",
     "output_type": "stream",
     "text": [
      "side1 = 4\n",
      "side2 = 3\n",
      "side3 = 4\n"
     ]
    }
   ],
   "source": [
    "side1 = int(input('side1 = '))\n",
    "side2 = int(input('side2 = '))\n",
    "side3 = int(input('side3 = '))"
   ]
  },
  {
   "cell_type": "code",
   "execution_count": 39,
   "id": "8244d97f",
   "metadata": {},
   "outputs": [],
   "source": [
    "class area(sides):\n",
    "    def __init__(self,side1,side2,side3):\n",
    "        super().__init__(side1,side2,side3)\n",
    "    def get_area(self):\n",
    "        s = (side1+side2+side3)/2\n",
    "        return ((s-side1)*(s-side2)*(s-side3)**0.5)"
   ]
  },
  {
   "cell_type": "code",
   "execution_count": 40,
   "id": "79bf2d18",
   "metadata": {},
   "outputs": [
    {
     "name": "stdout",
     "output_type": "stream",
     "text": [
      "Initialised Triagle super class [4,3,4]\n",
      "4\n",
      "area is  4.592793267718458\n"
     ]
    }
   ],
   "source": [
    "a = area(side1,side2,side3)\n",
    "\n",
    "print(\"area is \",a.get_area())"
   ]
  },
  {
   "cell_type": "markdown",
   "id": "52594b34",
   "metadata": {},
   "source": [
    "#### Write a function filter_long_words() that takes a list of words and an integer n and returns the list of words that are longer than n."
   ]
  },
  {
   "cell_type": "code",
   "execution_count": 42,
   "id": "cecc30f3",
   "metadata": {},
   "outputs": [
    {
     "name": "stdout",
     "output_type": "stream",
     "text": [
      "['jabbba', 'gololololo', 'djdnananan']\n"
     ]
    }
   ],
   "source": [
    "def filter_long_words(llist,n):\n",
    "    flist = []\n",
    "    for i in llist:\n",
    "        if len(i)>=n:\n",
    "            flist.append(i)\n",
    "    return flist\n",
    "\n",
    "print(filter_long_words(['abba','jabbba','gololololo','d','djdnananan'],6))\n",
    "        "
   ]
  },
  {
   "cell_type": "markdown",
   "id": "940ffc33",
   "metadata": {},
   "source": [
    "#### Write a Python program using function concept that maps list of words into a list of integers representing the lengths of the corresponding words."
   ]
  },
  {
   "cell_type": "code",
   "execution_count": 43,
   "id": "499ecf7a",
   "metadata": {},
   "outputs": [
    {
     "name": "stdout",
     "output_type": "stream",
     "text": [
      "[4, 2, 1, 4]\n"
     ]
    }
   ],
   "source": [
    "def length(llist):\n",
    "    flist = []\n",
    "    for i in llist:\n",
    "        flist.append(len(i))\n",
    "    return flist\n",
    "\n",
    "print(length(['fggg','aa','s','tttt']))"
   ]
  },
  {
   "cell_type": "markdown",
   "id": "2b2e0f42",
   "metadata": {},
   "source": [
    "#### Write a Python function which takes a character (i.e. a string of length 1) and returns True if it is a vowel, False otherwise."
   ]
  },
  {
   "cell_type": "code",
   "execution_count": 45,
   "id": "e9ca0039",
   "metadata": {},
   "outputs": [
    {
     "name": "stdout",
     "output_type": "stream",
     "text": [
      "True\n"
     ]
    }
   ],
   "source": [
    "def vowel_check(ch):\n",
    "    vowel = ['a','e','i','o','u']\n",
    "    if ch in vowel:\n",
    "        return True\n",
    "    return False\n",
    "\n",
    "print(vowel_check('u'))"
   ]
  },
  {
   "cell_type": "code",
   "execution_count": null,
   "id": "54887ca4",
   "metadata": {},
   "outputs": [],
   "source": []
  }
 ],
 "metadata": {
  "kernelspec": {
   "display_name": "Python 3",
   "language": "python",
   "name": "python3"
  },
  "language_info": {
   "codemirror_mode": {
    "name": "ipython",
    "version": 3
   },
   "file_extension": ".py",
   "mimetype": "text/x-python",
   "name": "python",
   "nbconvert_exporter": "python",
   "pygments_lexer": "ipython3",
   "version": "3.8.8"
  }
 },
 "nbformat": 4,
 "nbformat_minor": 5
}
