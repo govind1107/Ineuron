{
 "cells": [
  {
   "cell_type": "markdown",
   "id": "75b316c5",
   "metadata": {},
   "source": [
    "#### Write a function so that the columns of the output matrix are powers of the input vector.The order of the powers is determined by the increasing boolean argument. Specifically, when increasing is False, the i-th output column is the input vector raised element-wise to the power of N - i - 1. HINT: Such a matrix with a geometric progression in each row is named for Alexandre- Theophile Vandermonde."
   ]
  },
  {
   "cell_type": "code",
   "execution_count": 1,
   "id": "890f849a",
   "metadata": {},
   "outputs": [],
   "source": [
    "import numpy as np"
   ]
  },
  {
   "cell_type": "code",
   "execution_count": 33,
   "id": "8177b5e0",
   "metadata": {},
   "outputs": [],
   "source": [
    "def matrix_stack(l1,N):\n",
    "    matrix = np.column_stack([l1**(N-i-1) for i in range(N)])\n",
    "    return matrix"
   ]
  },
  {
   "cell_type": "code",
   "execution_count": 34,
   "id": "389d2964",
   "metadata": {},
   "outputs": [],
   "source": [
    "m = matrix_stack(np.array([1,2,3,4,5]),6)"
   ]
  },
  {
   "cell_type": "code",
   "execution_count": 35,
   "id": "49b6f52e",
   "metadata": {},
   "outputs": [
    {
     "data": {
      "text/plain": [
       "array([[   1,    1,    1,    1,    1,    1],\n",
       "       [  32,   16,    8,    4,    2,    1],\n",
       "       [ 243,   81,   27,    9,    3,    1],\n",
       "       [1024,  256,   64,   16,    4,    1],\n",
       "       [3125,  625,  125,   25,    5,    1]])"
      ]
     },
     "execution_count": 35,
     "metadata": {},
     "output_type": "execute_result"
    }
   ],
   "source": [
    "m"
   ]
  },
  {
   "cell_type": "markdown",
   "id": "d21e08f6",
   "metadata": {},
   "source": [
    "#### Write a function to find moving average in an array over a window: Test it over [3, 5, 7, 2, 8, 10, 11, 65, 72, 81, 99, 100, 150] and window of 3. "
   ]
  },
  {
   "cell_type": "code",
   "execution_count": 66,
   "id": "d415fac9",
   "metadata": {},
   "outputs": [],
   "source": [
    "def moving_window(num_list,win):\n",
    "    p = [num_list[i:i+win] for i in range(0,len(num_list)-(win-1))]\n",
    "    \n",
    "    avg = [(sum(i)/5) for i in p]\n",
    "    \n",
    "    return avg\n",
    "\n",
    "\n"
   ]
  },
  {
   "cell_type": "code",
   "execution_count": 68,
   "id": "3b994804",
   "metadata": {},
   "outputs": [
    {
     "name": "stdout",
     "output_type": "stream",
     "text": [
      "[5.0, 6.4, 7.6, 19.2, 33.2, 47.8, 65.6, 83.4, 100.4]\n"
     ]
    }
   ],
   "source": [
    "num_list = [3, 5, 7, 2, 8, 10, 11, 65, 72, 81, 99, 100, 150]\n",
    "win = 5\n",
    "print(moving_window(num_list,win))"
   ]
  },
  {
   "cell_type": "code",
   "execution_count": null,
   "id": "4867fee1",
   "metadata": {},
   "outputs": [],
   "source": []
  }
 ],
 "metadata": {
  "kernelspec": {
   "display_name": "Python 3",
   "language": "python",
   "name": "python3"
  },
  "language_info": {
   "codemirror_mode": {
    "name": "ipython",
    "version": 3
   },
   "file_extension": ".py",
   "mimetype": "text/x-python",
   "name": "python",
   "nbconvert_exporter": "python",
   "pygments_lexer": "ipython3",
   "version": "3.8.8"
  }
 },
 "nbformat": 4,
 "nbformat_minor": 5
}
