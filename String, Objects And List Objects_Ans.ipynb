{
 "cells": [
  {
   "cell_type": "markdown",
   "id": "6cab8125",
   "metadata": {},
   "source": [
    "#### Create the below pattern using nested for loop in Python."
   ]
  },
  {
   "cell_type": "code",
   "execution_count": 13,
   "id": "e341d1f3",
   "metadata": {},
   "outputs": [
    {
     "name": "stdout",
     "output_type": "stream",
     "text": [
      "Enter value of n6\n",
      " \n",
      "*  \n",
      "* *  \n",
      "* * *  \n",
      "* * * *  \n",
      "* * * * *  \n",
      "* * * * * *  \n",
      "* * * * *  \n",
      "* * * *  \n",
      "* * *  \n",
      "* *  \n",
      "*  \n"
     ]
    }
   ],
   "source": [
    "try :\n",
    "    n = int(input('Enter value of n'))\n",
    "    for i in range(n):\n",
    "        print('* '*i,end = ' ')\n",
    "        print( )\n",
    "    for i in range(n):\n",
    "        print('* '*(n-i),end = ' ')\n",
    "        print( )\n",
    "except Exception as e:\n",
    "    print(e)"
   ]
  },
  {
   "cell_type": "markdown",
   "id": "eed82541",
   "metadata": {},
   "source": [
    "#### Write a Python program to reverse a word after accepting the input from the user."
   ]
  },
  {
   "cell_type": "code",
   "execution_count": 17,
   "id": "d97a6923",
   "metadata": {},
   "outputs": [
    {
     "name": "stdout",
     "output_type": "stream",
     "text": [
      "Enter your word govind\n",
      "dnivog\n"
     ]
    }
   ],
   "source": [
    "word = input('Enter your word ')\n",
    "\n",
    "print(''.join(reversed(word)))"
   ]
  },
  {
   "cell_type": "code",
   "execution_count": null,
   "id": "02704df6",
   "metadata": {},
   "outputs": [],
   "source": []
  },
  {
   "cell_type": "code",
   "execution_count": null,
   "id": "ffd976ad",
   "metadata": {},
   "outputs": [],
   "source": []
  }
 ],
 "metadata": {
  "kernelspec": {
   "display_name": "Python 3",
   "language": "python",
   "name": "python3"
  },
  "language_info": {
   "codemirror_mode": {
    "name": "ipython",
    "version": 3
   },
   "file_extension": ".py",
   "mimetype": "text/x-python",
   "name": "python",
   "nbconvert_exporter": "python",
   "pygments_lexer": "ipython3",
   "version": "3.8.8"
  }
 },
 "nbformat": 4,
 "nbformat_minor": 5
}
