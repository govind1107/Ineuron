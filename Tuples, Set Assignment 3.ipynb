{
 "cells": [
  {
   "cell_type": "markdown",
   "id": "5cf52d31",
   "metadata": {},
   "source": [
    "#### Write a Python Program to implement your own myreduce() function which works exactly like Python's built-in function reduce()"
   ]
  },
  {
   "cell_type": "code",
   "execution_count": 42,
   "id": "4d40fd14",
   "metadata": {},
   "outputs": [],
   "source": [
    "def myreduce(my_list,operation):\n",
    "    ans_string = ''\n",
    "    ans = 0\n",
    "    if operation == \"+\":\n",
    "        #ans = 0\n",
    "        if type(my_list[0]) == int:\n",
    "            for i in my_list:\n",
    "                ans = ans+i\n",
    "            return ans\n",
    "        else:\n",
    "            for i in my_list:\n",
    "                ans_string = ans_string+i\n",
    "            return ans_string\n",
    "    elif operation == \"*\":\n",
    "        ans = 1;\n",
    "        for i in my_list:\n",
    "            ans = ans*i\n",
    "        return ans\n",
    "    elif operation == 'max':\n",
    "        return max(my_list)\n",
    "    elif operation == 'min':\n",
    "        return min(my_list)"
   ]
  },
  {
   "cell_type": "code",
   "execution_count": 43,
   "id": "e7a86bf5",
   "metadata": {},
   "outputs": [
    {
     "name": "stdout",
     "output_type": "stream",
     "text": [
      "geeksforgeeks\n"
     ]
    }
   ],
   "source": [
    "print(myreduce([\"geeks\", \"for\", \"geeks\"],'+'))"
   ]
  },
  {
   "cell_type": "code",
   "execution_count": 44,
   "id": "73e60ae5",
   "metadata": {},
   "outputs": [
    {
     "name": "stdout",
     "output_type": "stream",
     "text": [
      "90\n"
     ]
    }
   ],
   "source": [
    "print(myreduce([20,20,50],'+'))"
   ]
  },
  {
   "cell_type": "markdown",
   "id": "e1f0a52e",
   "metadata": {},
   "source": [
    "#### 1.2 Write a Python program to implement your own myfilter() function which works exactly like Python's built-in function filter() "
   ]
  },
  {
   "cell_type": "code",
   "execution_count": 46,
   "id": "b58a95b6",
   "metadata": {},
   "outputs": [
    {
     "name": "stdout",
     "output_type": "stream",
     "text": [
      "odd list  [1, 3, 5, 13]\n",
      "even list  [0, 2, 8]\n"
     ]
    }
   ],
   "source": [
    "seq = [0, 1, 2, 3, 5, 8, 13]\n",
    "def myfilter(seq):\n",
    "    even = []\n",
    "    odd = []\n",
    "    for i in seq:\n",
    "        if i%2==0:\n",
    "            even.append(i)\n",
    "        else:\n",
    "            odd.append(i)\n",
    "    \n",
    "    return odd,even\n",
    "\n",
    "output = myfilter(seq)\n",
    "\n",
    "print('odd list ',output[0])\n",
    "print('even list ',output[1])"
   ]
  },
  {
   "cell_type": "markdown",
   "id": "072f19c4",
   "metadata": {},
   "source": [
    "#### Implement List comprehensions to produce the following lists. Write List comprehensions to produce the following Lists"
   ]
  },
  {
   "cell_type": "markdown",
   "id": "4f44801d",
   "metadata": {},
   "source": [
    "#### ['x', 'xx', 'xxx', 'xxxx', 'y', 'yy', 'yyy', 'yyyy', 'z', 'zz', 'zzz', 'zzzz']"
   ]
  },
  {
   "cell_type": "code",
   "execution_count": 54,
   "id": "a8a9b24a",
   "metadata": {},
   "outputs": [],
   "source": [
    "input_list = ['x','y','z']\n",
    "my_list = [i*j for i in input_list for j in range(1,5) ]"
   ]
  },
  {
   "cell_type": "code",
   "execution_count": 55,
   "id": "72451cd7",
   "metadata": {},
   "outputs": [
    {
     "data": {
      "text/plain": [
       "['x', 'xx', 'xxx', 'xxxx', 'y', 'yy', 'yyy', 'yyyy', 'z', 'zz', 'zzz', 'zzzz']"
      ]
     },
     "execution_count": 55,
     "metadata": {},
     "output_type": "execute_result"
    }
   ],
   "source": [
    "my_list"
   ]
  },
  {
   "cell_type": "markdown",
   "id": "ab5a689b",
   "metadata": {},
   "source": [
    "#### ['x', 'y', 'z', 'xx', 'yy', 'zz', 'xxx', 'yyy', 'zzz', 'xxxx', 'yyyy', 'zzzz'] "
   ]
  },
  {
   "cell_type": "code",
   "execution_count": 56,
   "id": "b5ca4bbc",
   "metadata": {},
   "outputs": [
    {
     "data": {
      "text/plain": [
       "['x', 'y', 'z', 'xx', 'yy', 'zz', 'xxx', 'yyy', 'zzz', 'xxxx', 'yyyy', 'zzzz']"
      ]
     },
     "execution_count": 56,
     "metadata": {},
     "output_type": "execute_result"
    }
   ],
   "source": [
    "input_list = ['x','y','z']\n",
    "my_list = [i*j for i in range(1,5) for j in input_list ]\n",
    "my_list"
   ]
  },
  {
   "cell_type": "markdown",
   "id": "3f532dd8",
   "metadata": {},
   "source": [
    "#### [[2], [3], [4], [3], [4], [5], [4], [5], [6]] "
   ]
  },
  {
   "cell_type": "code",
   "execution_count": 61,
   "id": "8029fb68",
   "metadata": {},
   "outputs": [],
   "source": [
    "A = [2,3,4]\n",
    "out = [[i+n] for i in A for n in range(0,3)]"
   ]
  },
  {
   "cell_type": "code",
   "execution_count": 62,
   "id": "59d4001a",
   "metadata": {},
   "outputs": [
    {
     "data": {
      "text/plain": [
       "[[2], [3], [4], [3], [4], [5], [4], [5], [6]]"
      ]
     },
     "execution_count": 62,
     "metadata": {},
     "output_type": "execute_result"
    }
   ],
   "source": [
    "out"
   ]
  },
  {
   "cell_type": "markdown",
   "id": "ce2d5815",
   "metadata": {},
   "source": [
    "####  [[2, 3, 4, 5], [3, 4, 5, 6],[4, 5, 6, 7], [5, 6, 7, 8]]"
   ]
  },
  {
   "cell_type": "code",
   "execution_count": 65,
   "id": "275947cc",
   "metadata": {},
   "outputs": [
    {
     "name": "stdout",
     "output_type": "stream",
     "text": [
      "[[2, 3, 4, 5], [3, 4, 5, 6], [4, 5, 6, 7], [5, 6, 7, 8]]\n"
     ]
    }
   ],
   "source": [
    "A = [2,3,4,5]\n",
    "p = []\n",
    "p = [[i+j for i in range(0,4) ]for j in A]\n",
    "    \n",
    "        \n",
    "        \n",
    "print(p)"
   ]
  },
  {
   "cell_type": "markdown",
   "id": "1924d532",
   "metadata": {},
   "source": [
    "#### [(1, 1), (2, 1), (3, 1), (1, 2), (2, 2), (3, 2), (1, 3), (2, 3), (3, 3)]\n"
   ]
  },
  {
   "cell_type": "code",
   "execution_count": 67,
   "id": "3ffa6cba",
   "metadata": {},
   "outputs": [
    {
     "data": {
      "text/plain": [
       "[(1, 1), (2, 1), (3, 1), (1, 2), (2, 2), (3, 2), (1, 3), (2, 3), (3, 3)]"
      ]
     },
     "execution_count": 67,
     "metadata": {},
     "output_type": "execute_result"
    }
   ],
   "source": [
    "A = [1,2,3]\n",
    "\n",
    "out = [(b,a) for a in A for b in A]\n",
    "out"
   ]
  },
  {
   "cell_type": "code",
   "execution_count": null,
   "id": "8e676aa9",
   "metadata": {},
   "outputs": [],
   "source": []
  }
 ],
 "metadata": {
  "kernelspec": {
   "display_name": "Python 3",
   "language": "python",
   "name": "python3"
  },
  "language_info": {
   "codemirror_mode": {
    "name": "ipython",
    "version": 3
   },
   "file_extension": ".py",
   "mimetype": "text/x-python",
   "name": "python",
   "nbconvert_exporter": "python",
   "pygments_lexer": "ipython3",
   "version": "3.8.8"
  }
 },
 "nbformat": 4,
 "nbformat_minor": 5
}
